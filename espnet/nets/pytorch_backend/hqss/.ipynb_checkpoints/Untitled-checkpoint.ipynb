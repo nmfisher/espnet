{
 "cells": [
  {
   "cell_type": "code",
   "execution_count": 1,
   "id": "2e8aeb6e",
   "metadata": {},
   "outputs": [
    {
     "ename": "TypeError",
     "evalue": "__init__() missing 1 required positional argument: 'batch_size'",
     "output_type": "error",
     "traceback": [
      "\u001b[0;31m---------------------------------------------------------------------------\u001b[0m",
      "\u001b[0;31mTypeError\u001b[0m                                 Traceback (most recent call last)",
      "\u001b[0;32m/tmp/ipykernel_6902/196729257.py\u001b[0m in \u001b[0;36m<module>\u001b[0;34m\u001b[0m\n\u001b[1;32m     15\u001b[0m \u001b[0mcdim\u001b[0m \u001b[0;34m=\u001b[0m \u001b[0;36m400\u001b[0m\u001b[0;34m\u001b[0m\u001b[0;34m\u001b[0m\u001b[0m\n\u001b[1;32m     16\u001b[0m \u001b[0;34m\u001b[0m\u001b[0m\n\u001b[0;32m---> 17\u001b[0;31m \u001b[0mattn\u001b[0m \u001b[0;34m=\u001b[0m \u001b[0mMOLAttn\u001b[0m\u001b[0;34m(\u001b[0m\u001b[0menc_dim\u001b[0m\u001b[0;34m,\u001b[0m \u001b[0mprenet_odim\u001b[0m\u001b[0;34m,\u001b[0m \u001b[0mattn_dim\u001b[0m\u001b[0;34m,\u001b[0m \u001b[0mcdim\u001b[0m\u001b[0;34m)\u001b[0m\u001b[0;34m\u001b[0m\u001b[0;34m\u001b[0m\u001b[0m\n\u001b[0m\u001b[1;32m     18\u001b[0m \u001b[0;34m\u001b[0m\u001b[0m\n\u001b[1;32m     19\u001b[0m \u001b[0;32mfor\u001b[0m \u001b[0mi\u001b[0m \u001b[0;32min\u001b[0m \u001b[0mrange\u001b[0m\u001b[0;34m(\u001b[0m\u001b[0mdec_ts\u001b[0m\u001b[0;34m)\u001b[0m\u001b[0;34m:\u001b[0m\u001b[0;34m\u001b[0m\u001b[0;34m\u001b[0m\u001b[0m\n",
      "\u001b[0;31mTypeError\u001b[0m: __init__() missing 1 required positional argument: 'batch_size'"
     ]
    }
   ],
   "source": [
    "from mol_attn import MOLAttn\n",
    "import torch\n",
    "\n",
    "bs = 20\n",
    "enc_dim = 256\n",
    "enc_ts = 5\n",
    "\n",
    "enc_z = torch.randn(bs, enc_ts, enc_dim)\n",
    "\n",
    "dec_ts = 100\n",
    "prenet_odim = 256\n",
    "dec_z = torch.randn(bs, dec_ts, prenet_odim)\n",
    "\n",
    "attn_dim = 384\n",
    "cdim = 400\n",
    "\n",
    "attn = MOLAttn(enc_dim, prenet_odim, attn_dim, cdimm, bs)\n",
    "\n",
    "for i in range(dec_ts):\n",
    "    _ =  attn(enc_z, dec_z[:,i, :], i)"
   ]
  }
 ],
 "metadata": {
  "kernelspec": {
   "display_name": "Python 3 (ipykernel)",
   "language": "python",
   "name": "python3"
  },
  "language_info": {
   "codemirror_mode": {
    "name": "ipython",
    "version": 3
   },
   "file_extension": ".py",
   "mimetype": "text/x-python",
   "name": "python",
   "nbconvert_exporter": "python",
   "pygments_lexer": "ipython3",
   "version": "3.7.11"
  }
 },
 "nbformat": 4,
 "nbformat_minor": 5
}
